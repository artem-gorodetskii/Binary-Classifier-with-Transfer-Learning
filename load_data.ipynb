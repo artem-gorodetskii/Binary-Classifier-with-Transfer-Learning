{
 "cells": [
  {
   "cell_type": "code",
   "execution_count": 1,
   "metadata": {},
   "outputs": [],
   "source": [
    "import pandas as pd\n",
    "import numpy as np\n",
    "\n",
    "georges_urls_path = 'georges.csv'\n",
    "non_georges_urls_path = 'non_georges.csv'\n",
    "\n",
    "georges_urls = pd.read_csv(georges_urls_path)\n",
    "non_georges_urls = pd.read_csv(non_georges_urls_path)"
   ]
  },
  {
   "cell_type": "code",
   "execution_count": 2,
   "metadata": {},
   "outputs": [],
   "source": [
    "old_col_name1 = georges_urls.columns[0]\n",
    "old_col_name2 = non_georges_urls.columns[0]\n",
    "georges_urls = georges_urls.rename(columns={old_col_name1: 'URL'})\n",
    "non_georges_urls = non_georges_urls.rename(columns={old_col_name2: 'URL'})"
   ]
  },
  {
   "cell_type": "code",
   "execution_count": 7,
   "metadata": {},
   "outputs": [],
   "source": [
    "from PIL import Image\n",
    "from urllib.request import urlopen\n",
    "\n",
    "#load train set\n",
    "# we will take 70% of data for trainset and 30% for validation set\n",
    "\n",
    "train_georges_size = round(0.7*len(georges_urls))\n",
    "train_non_georges_size = round(0.7*len(non_georges_urls))\n",
    "\n",
    "# create shuffled lists of indexes in order to shuffle \n",
    "# data randomly between train and validation sets\n",
    "georges_inds = list(np.random.permutation(len(georges_urls)))\n",
    "non_georges_inds = list(np.random.permutation(len(non_georges_urls)))"
   ]
  },
  {
   "cell_type": "code",
   "execution_count": 21,
   "metadata": {},
   "outputs": [],
   "source": [
    "def load_data(df_with_urls, data_path, data_class, list_with_inds, size, start_ind=0):\n",
    "    counter = 0\n",
    "    while True:    \n",
    "        index = list_with_inds.pop()\n",
    "        path = df_with_urls.URL[index]\n",
    "        counter += 1\n",
    "        name = data_class + '_' + (4-len(str(counter+start_ind)))*'0' + str(counter+start_ind)\n",
    "        img =Image.open(urlopen(path))\n",
    "        img.save(data_path + name + '.jpg','jpeg') \n",
    "        if counter == size or len(list_with_inds)==0:\n",
    "            break"
   ]
  },
  {
   "cell_type": "code",
   "execution_count": 7,
   "metadata": {},
   "outputs": [],
   "source": [
    "georges_train_data_path = 'data/train/georges/'\n",
    "load_data(georges_urls, georges_train_data_path, 'georges', georges_inds, train_georges_size)"
   ]
  },
  {
   "cell_type": "code",
   "execution_count": 11,
   "metadata": {},
   "outputs": [],
   "source": [
    "non_georges_train_data_path = 'data/train/non_georges/'\n",
    "load_data(non_georges_urls, non_georges_train_data_path, 'non_georges', non_georges_inds, train_non_georges_size)"
   ]
  },
  {
   "cell_type": "code",
   "execution_count": 12,
   "metadata": {},
   "outputs": [],
   "source": [
    "# load validation data\n",
    "\n",
    "georges_valid_data_path = 'data/valid/georges/'\n",
    "\n",
    "valid_georges_size = len(georges_urls) - train_georges_size\n",
    "load_data(georges_urls, georges_valid_data_path, 'georges', georges_inds, valid_georges_size, start_ind=train_georges_size)"
   ]
  },
  {
   "cell_type": "code",
   "execution_count": 23,
   "metadata": {},
   "outputs": [],
   "source": [
    "non_georges_valid_data_path = 'data/valid/non_georges/'\n",
    "\n",
    "valid_non_georges_size = len(non_georges_urls) - train_non_georges_size\n",
    "load_data(non_georges_urls, non_georges_valid_data_path, 'non_georges', non_georges_inds,\n",
    "          valid_non_georges_size, start_ind=train_non_georges_size)"
   ]
  },
  {
   "cell_type": "code",
   "execution_count": null,
   "metadata": {},
   "outputs": [],
   "source": []
  }
 ],
 "metadata": {
  "kernelspec": {
   "display_name": "Python 3",
   "language": "python",
   "name": "python3"
  },
  "language_info": {
   "codemirror_mode": {
    "name": "ipython",
    "version": 3
   },
   "file_extension": ".py",
   "mimetype": "text/x-python",
   "name": "python",
   "nbconvert_exporter": "python",
   "pygments_lexer": "ipython3",
   "version": "3.7.7"
  }
 },
 "nbformat": 4,
 "nbformat_minor": 4
}
